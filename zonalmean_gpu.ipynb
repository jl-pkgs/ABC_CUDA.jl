{
 "cells": [
  {
   "cell_type": "code",
   "execution_count": 1,
   "id": "b90897bd-a5c8-4a4c-8b50-66480f704732",
   "metadata": {},
   "outputs": [],
   "source": [
    "using CUDA\n",
    "using Ipaper\n",
    "using BenchmarkTools"
   ]
  },
  {
   "cell_type": "code",
   "execution_count": 49,
   "id": "78cb21cb-5c9b-4473-899c-20d46fad1a70",
   "metadata": {},
   "outputs": [
    {
     "data": {
      "text/plain": [
       "zonalmean_cpu (generic function with 1 method)"
      ]
     },
     "execution_count": 49,
     "metadata": {},
     "output_type": "execute_result"
    }
   ],
   "source": [
    "function time_average_kernel(data, result)\n",
    "    idx = threadIdx().x + (blockIdx().x - 1) * blockDim().x\n",
    "    idy = threadIdx().y + (blockIdx().y - 1) * blockDim().y\n",
    "    if idx <= size(data, 1) && idy <= size(data, 2)\n",
    "        sum = 0.0f0\n",
    "        for t in 1:size(data, 3)\n",
    "            sum += data[idx, idy, t]\n",
    "        end\n",
    "        result[idx, idy] = sum / size(data, 3)\n",
    "    end\n",
    "    nothing\n",
    "end\n",
    "\n",
    "function zonalmean_gpu(data)\n",
    "    _size = size(data)[1:2]\n",
    "    result = CUDA.zeros(Float32, _size)\n",
    "    \n",
    "    threads_per_block = (32, 32)\n",
    "    blocks_per_grid = (ceil(Int, 1000 / 32), ceil(Int, 1000 / 32))\n",
    "    \n",
    "    @cuda blocks=blocks_per_grid threads=threads_per_block time_average_kernel(data, result)    \n",
    "    result\n",
    "end\n",
    "\n",
    "function zonalmean_cpu(data::AbstractArray{<:Real,3})\n",
    "    nlon, nlat, ntime = size(data)\n",
    "    result = zeros(Float32, nlon, nlat)\n",
    "    \n",
    "    # j在前，速度翻10倍\n",
    "    @inbounds for j=1:nlat, i in 1:nlon\n",
    "        sum = 0.0f0\n",
    "        for t in 1:ntime\n",
    "            sum += data[i, j, t]\n",
    "        end\n",
    "        result[i, j] = sum / ntime\n",
    "    end\n",
    "    result\n",
    "end"
   ]
  },
  {
   "cell_type": "code",
   "execution_count": 7,
   "id": "34c38df2-47af-4323-b06c-5a73836a0157",
   "metadata": {},
   "outputs": [
    {
     "name": "stdout",
     "output_type": "stream",
     "text": [
      "Array{Float32, 3} | (1000, 1000, 30) | \u001b[34m\u001b[1m\u001b[4m114.44 Mb\u001b[24m\u001b[22m\u001b[39m\n"
     ]
    }
   ],
   "source": [
    "# 假设数据类型为 Float32，创建一个随机数据数组\n",
    "data = CUDA.rand(Float32, 1000, 1000, 30)\n",
    "x = Array(data)\n",
    "obj_size(x)\n"
   ]
  },
  {
   "cell_type": "code",
   "execution_count": 5,
   "id": "5d7805a4-7dec-4e27-9b65-6f15edf5e07f",
   "metadata": {},
   "outputs": [
    {
     "name": "stdout",
     "output_type": "stream",
     "text": [
      "Float32 | (10000, 10000, 30) | \u001b[34m\u001b[1m\u001b[4m11444.09 Mb\u001b[24m\u001b[22m\u001b[39m\n"
     ]
    }
   ],
   "source": [
    "obj_size((10000, 10000, 30), Float32) # 11Gb"
   ]
  },
  {
   "cell_type": "code",
   "execution_count": 40,
   "id": "603f0059-7b7a-43b8-851e-c2ecd02fa387",
   "metadata": {},
   "outputs": [
    {
     "name": "stdout",
     "output_type": "stream",
     "text": [
      "  0.000132 seconds (21 allocations: 752 bytes)\n",
      "  0.017931 seconds (2 allocations: 3.815 MiB)\n"
     ]
    },
    {
     "data": {
      "text/plain": [
       "true"
      ]
     },
     "execution_count": 40,
     "metadata": {},
     "output_type": "execute_result"
    }
   ],
   "source": [
    "@time r1 = zonalmean_gpu(data);\n",
    "@time r2 = zonalmean_cpu(x);\n",
    "Array(r1) == r2"
   ]
  },
  {
   "cell_type": "code",
   "execution_count": 45,
   "id": "a0baf868-9db5-43c0-b1c8-a65f15cd40b2",
   "metadata": {},
   "outputs": [
    {
     "name": "stdout",
     "output_type": "stream",
     "text": [
      "  11.100 μs (21 allocations: 752 bytes)\n",
      "  17.450 ms (2 allocations: 3.81 MiB)\n"
     ]
    }
   ],
   "source": [
    "@btime r1 = zonalmean_gpu($data);\n",
    "@btime r2 = zonalmean_cpu($x);"
   ]
  },
  {
   "cell_type": "code",
   "execution_count": 46,
   "id": "2eacfb0d-e95e-465b-a0f3-6ddb5578c8b3",
   "metadata": {},
   "outputs": [
    {
     "name": "stdout",
     "output_type": "stream",
     "text": [
      "  17.504 ms (2 allocations: 3.81 MiB)\n"
     ]
    }
   ],
   "source": [
    "@btime r2 = zonalmean_cpu($x);"
   ]
  },
  {
   "cell_type": "code",
   "execution_count": 48,
   "id": "8c1f8b91-2921-4385-8d8e-00f9dee8f584",
   "metadata": {},
   "outputs": [
    {
     "data": {
      "text/plain": [
       "1572.0720720720722"
      ]
     },
     "execution_count": 48,
     "metadata": {},
     "output_type": "execute_result"
    }
   ],
   "source": [
    "17.45*1000/11.100"
   ]
  }
 ],
 "metadata": {
  "kernelspec": {
   "display_name": "Julia 1.10.2",
   "language": "julia",
   "name": "julia-1.10"
  },
  "language_info": {
   "file_extension": ".jl",
   "mimetype": "application/julia",
   "name": "julia",
   "version": "1.10.2"
  }
 },
 "nbformat": 4,
 "nbformat_minor": 5
}
