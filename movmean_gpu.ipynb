{
 "cells": [
  {
   "cell_type": "code",
   "execution_count": 36,
   "id": "e16b7a17-86bf-43a9-ac28-e4e05f92238c",
   "metadata": {},
   "outputs": [],
   "source": [
    "using CUDA\n",
    "using Ipaper\n",
    "using BenchmarkTools"
   ]
  },
  {
   "cell_type": "code",
   "execution_count": 54,
   "id": "4e74cc5d-f507-4ecd-8e4e-269161ad7c41",
   "metadata": {},
   "outputs": [
    {
     "data": {
      "text/plain": [
       "cpu_moving_average (generic function with 1 method)"
      ]
     },
     "execution_count": 54,
     "metadata": {},
     "output_type": "execute_result"
    }
   ],
   "source": [
    "# Function to compute moving averages using CUDA\n",
    "function gpu_moving_average(data, window_size)\n",
    "    n = length(data)\n",
    "    result = CUDA.zeros(Float32, n - window_size + 1)\n",
    "\n",
    "    # CUDA kernel to calculate moving average\n",
    "    function kernel(data, result, window_size, n)\n",
    "        i = threadIdx().x + (blockIdx().x - 1) * blockDim().x\n",
    "        if i <= n - window_size + 1\n",
    "            sum = 0.0f0\n",
    "            for j = 1:window_size\n",
    "                sum += data[i + j - 1]\n",
    "            end\n",
    "            result[i] = sum / window_size\n",
    "        end\n",
    "        nothing\n",
    "    end\n",
    "    \n",
    "    # Launching the kernel\n",
    "    @cuda threads=1024 blocks=ceil(Int, (n - window_size + 1) / 256) kernel(data, result, window_size, n)\n",
    "    return result\n",
    "end\n",
    "\n",
    "# Function to compute moving averages on CPU\n",
    "function cpu_moving_average(data, window_size)\n",
    "    n = length(data)\n",
    "    result = zeros(Float32, n - window_size + 1)\n",
    "    # Compute moving average\n",
    "    @inbounds for i in 1:(n - window_size + 1)\n",
    "        sum = 0.0f0\n",
    "        for j = 1:window_size\n",
    "            sum += data[i + j - 1]\n",
    "        end\n",
    "        result[i] = sum / window_size\n",
    "        # result[i] = sum(data[i:(i + window_size - 1)]) / window_size\n",
    "    end\n",
    "    return result\n",
    "end"
   ]
  },
  {
   "cell_type": "code",
   "execution_count": 56,
   "id": "c321aa6b-9dc2-4f92-bda4-0b5259d5cce3",
   "metadata": {},
   "outputs": [
    {
     "name": "stdout",
     "output_type": "stream",
     "text": [
      "  11.100 μs (21 allocations: 768 bytes)\n"
     ]
    }
   ],
   "source": [
    "# Example usage\n",
    "data = CUDA.rand(Float32, 1000000)  # Large array of random floats\n",
    "# obj_size(data)\n",
    "window_size = 10\n",
    "@btime averages_gpu = gpu_moving_average($data, window_size);\n",
    "# println(averages)  # Print the computed moving averages"
   ]
  },
  {
   "cell_type": "code",
   "execution_count": 57,
   "id": "b7772e58-7d39-4303-af28-92363c15d7c9",
   "metadata": {},
   "outputs": [
    {
     "name": "stdout",
     "output_type": "stream",
     "text": [
      "Vector{Float32} | (1000000,) | \u001b[34m\u001b[1m\u001b[4m3.81 Mb\u001b[24m\u001b[22m\u001b[39m\n",
      "  3.600 ms (2 allocations: 3.81 MiB)\n"
     ]
    },
    {
     "data": {
      "text/plain": [
       "false"
      ]
     },
     "execution_count": 57,
     "metadata": {},
     "output_type": "execute_result"
    }
   ],
   "source": [
    "x = Array(data);\n",
    "obj_size(x);\n",
    "@btime averages_cpu = cpu_moving_average(x, window_size);\n",
    "\n",
    "Array(averages_gpu) == averages_cpu # check result"
   ]
  },
  {
   "cell_type": "code",
   "execution_count": 59,
   "id": "5725d04c-e480-408c-b71d-b7dfc8cd0a0d",
   "metadata": {},
   "outputs": [
    {
     "data": {
      "text/plain": [
       "323.7837837837838"
      ]
     },
     "execution_count": 59,
     "metadata": {},
     "output_type": "execute_result"
    }
   ],
   "source": [
    "3.594*1000 / 11.100 "
   ]
  },
  {
   "cell_type": "code",
   "execution_count": 53,
   "id": "9f1d3be1-3b93-4714-a9bc-0fe11993b826",
   "metadata": {},
   "outputs": [
    {
     "name": "stdout",
     "output_type": "stream",
     "text": [
      "CUDA.name(device) = \"Quadro P4000\"\n",
      "CUDA.attribute(device, CUDA.CU_DEVICE_ATTRIBUTE_MAX_THREADS_PER_BLOCK) = 1024\n",
      "CUDA.attribute(device, CUDA.CU_DEVICE_ATTRIBUTE_MULTIPROCESSOR_COUNT) = 14\n",
      "CUDA.attribute(device, CUDA.CU_DEVICE_ATTRIBUTE_WARP_SIZE) = 32\n"
     ]
    }
   ],
   "source": [
    "## GPU info\n",
    "# List properties of all CUDA devices\n",
    "for device in CUDA.devices()\n",
    "    @show CUDA.name(device)  # Device name\n",
    "    @show CUDA.attribute(device, CUDA.CU_DEVICE_ATTRIBUTE_MAX_THREADS_PER_BLOCK)  # Max threads per block\n",
    "    @show CUDA.attribute(device, CUDA.CU_DEVICE_ATTRIBUTE_MULTIPROCESSOR_COUNT)  # Number of multiprocessors\n",
    "    @show CUDA.attribute(device, CUDA.CU_DEVICE_ATTRIBUTE_WARP_SIZE)  # Warp size\n",
    "end"
   ]
  }
 ],
 "metadata": {
  "kernelspec": {
   "display_name": "Julia 1.10.2",
   "language": "julia",
   "name": "julia-1.10"
  },
  "language_info": {
   "file_extension": ".jl",
   "mimetype": "application/julia",
   "name": "julia",
   "version": "1.10.2"
  }
 },
 "nbformat": 4,
 "nbformat_minor": 5
}
